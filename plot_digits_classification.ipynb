{
  "cells": [
    {
      "cell_type": "code",
      "execution_count": null,
      "metadata": {
        "id": "XMX3YEGxDbXQ"
      },
      "outputs": [],
      "source": [
        "%matplotlib inline"
      ]
    },
    {
      "cell_type": "code",
      "source": [
        "from google.colab import drive\n",
        "drive.mount('/content/drive')"
      ],
      "metadata": {
        "colab": {
          "base_uri": "https://localhost:8080/"
        },
        "id": "8x_w1yqZDtRt",
        "outputId": "a22659bd-5487-4d3d-cf38-3d9c5bc74bd8"
      },
      "execution_count": null,
      "outputs": [
        {
          "output_type": "stream",
          "name": "stdout",
          "text": [
            "Mounted at /content/drive\n"
          ]
        }
      ]
    },
    {
      "cell_type": "code",
      "source": [
        "!gdown https://drive.google.com/uc?id=1-3zb9013ywiNwxwO1Y8Ukh3pMxk4jYWL&export=download"
      ],
      "metadata": {
        "colab": {
          "base_uri": "https://localhost:8080/"
        },
        "id": "aFMA-WNc5z9i",
        "outputId": "5a16cc2a-3df6-41e0-a8c5-1a9f2a9c46c4"
      },
      "execution_count": null,
      "outputs": [
        {
          "output_type": "stream",
          "name": "stdout",
          "text": [
            "Downloading...\n",
            "From: https://drive.google.com/uc?id=1-3zb9013ywiNwxwO1Y8Ukh3pMxk4jYWL\n",
            "To: /content/images.zip\n",
            "\r  0% 0.00/356k [00:00<?, ?B/s]\r100% 356k/356k [00:00<00:00, 59.3MB/s]\n"
          ]
        }
      ]
    },
    {
      "cell_type": "code",
      "source": [
        "!unzip images.zip"
      ],
      "metadata": {
        "id": "YDl3TGU86CAv",
        "outputId": "e796d789-ca2b-4d7d-9337-4fa1d9e6deed",
        "colab": {
          "base_uri": "https://localhost:8080/"
        }
      },
      "execution_count": null,
      "outputs": [
        {
          "output_type": "stream",
          "name": "stdout",
          "text": [
            "Archive:  images.zip\n",
            "   creating: Dataset/CS114/Digits/images_/\n",
            "   creating: Dataset/CS114/Digits/images_/0/\n",
            " extracting: Dataset/CS114/Digits/images_/0/0.png  \n",
            " extracting: Dataset/CS114/Digits/images_/0/1.png  \n",
            " extracting: Dataset/CS114/Digits/images_/0/3.png  \n",
            "   creating: Dataset/CS114/Digits/images_/9/\n",
            " extracting: Dataset/CS114/Digits/images_/9/1.png  \n",
            " extracting: Dataset/CS114/Digits/images_/9/2.png  \n",
            " extracting: Dataset/CS114/Digits/images_/9/3.png  \n",
            "   creating: Dataset/CS114/Digits/images_/5/\n",
            " extracting: Dataset/CS114/Digits/images_/5/1.png  \n",
            " extracting: Dataset/CS114/Digits/images_/5/2.png  \n",
            " extracting: Dataset/CS114/Digits/images_/5/3.png  \n",
            " extracting: Dataset/CS114/Digits/images_/5/4.png  \n",
            " extracting: Dataset/CS114/Digits/images_/5/5.png  \n",
            " extracting: Dataset/CS114/Digits/images_/5/6.png  \n",
            " extracting: Dataset/CS114/Digits/images_/5/7.png  \n",
            " extracting: Dataset/CS114/Digits/images_/5/8.png  \n",
            " extracting: Dataset/CS114/Digits/images_/5/9.png  \n",
            " extracting: Dataset/CS114/Digits/images_/5/10.png  \n",
            "   creating: Dataset/CS114/Digits/images_/3/\n",
            " extracting: Dataset/CS114/Digits/images_/3/1.png  \n",
            " extracting: Dataset/CS114/Digits/images_/3/2.png  \n",
            " extracting: Dataset/CS114/Digits/images_/3/3.png  \n",
            " extracting: Dataset/CS114/Digits/images_/3/4.png  \n",
            " extracting: Dataset/CS114/Digits/images_/3/5.png  \n",
            " extracting: Dataset/CS114/Digits/images_/3/6.png  \n",
            " extracting: Dataset/CS114/Digits/images_/3/7.png  \n",
            " extracting: Dataset/CS114/Digits/images_/3/8.png  \n",
            " extracting: Dataset/CS114/Digits/images_/3/9.png  \n",
            " extracting: Dataset/CS114/Digits/images_/3/10.png  \n",
            "   creating: Dataset/CS114/Digits/images_/4/\n",
            " extracting: Dataset/CS114/Digits/images_/4/1.png  \n",
            " extracting: Dataset/CS114/Digits/images_/4/2.png  \n",
            " extracting: Dataset/CS114/Digits/images_/4/3.png  \n",
            " extracting: Dataset/CS114/Digits/images_/4/4.png  \n",
            " extracting: Dataset/CS114/Digits/images_/4/5.png  \n",
            " extracting: Dataset/CS114/Digits/images_/4/6.png  \n",
            " extracting: Dataset/CS114/Digits/images_/4/7.png  \n",
            " extracting: Dataset/CS114/Digits/images_/4/8.png  \n",
            " extracting: Dataset/CS114/Digits/images_/4/9.png  \n",
            " extracting: Dataset/CS114/Digits/images_/4/10.png  \n",
            "   creating: Dataset/CS114/Digits/images_/7/\n",
            " extracting: Dataset/CS114/Digits/images_/7/1.png  \n",
            " extracting: Dataset/CS114/Digits/images_/7/2.png  \n",
            " extracting: Dataset/CS114/Digits/images_/7/3.png  \n",
            " extracting: Dataset/CS114/Digits/images_/7/4.png  \n",
            " extracting: Dataset/CS114/Digits/images_/7/5.png  \n",
            " extracting: Dataset/CS114/Digits/images_/7/6.png  \n",
            " extracting: Dataset/CS114/Digits/images_/7/7.png  \n",
            " extracting: Dataset/CS114/Digits/images_/7/8.png  \n",
            " extracting: Dataset/CS114/Digits/images_/7/9.png  \n",
            " extracting: Dataset/CS114/Digits/images_/7/10.png  \n",
            "   creating: Dataset/CS114/Digits/images_/6/\n",
            " extracting: Dataset/CS114/Digits/images_/6/1.png  \n",
            " extracting: Dataset/CS114/Digits/images_/6/2.png  \n",
            " extracting: Dataset/CS114/Digits/images_/6/3.png  \n",
            " extracting: Dataset/CS114/Digits/images_/6/4.png  \n",
            " extracting: Dataset/CS114/Digits/images_/6/5.png  \n",
            " extracting: Dataset/CS114/Digits/images_/6/10.png  \n",
            " extracting: Dataset/CS114/Digits/images_/6/9 .png  \n",
            " extracting: Dataset/CS114/Digits/images_/6/8.png  \n",
            " extracting: Dataset/CS114/Digits/images_/6/7.png  \n",
            " extracting: Dataset/CS114/Digits/images_/6/6.png  \n",
            "   creating: Dataset/CS114/Digits/images_/2/\n",
            " extracting: Dataset/CS114/Digits/images_/2/1.png  \n",
            " extracting: Dataset/CS114/Digits/images_/2/2.png  \n",
            " extracting: Dataset/CS114/Digits/images_/2/3.png  \n",
            " extracting: Dataset/CS114/Digits/images_/2/4.png  \n",
            " extracting: Dataset/CS114/Digits/images_/2/5.png  \n",
            " extracting: Dataset/CS114/Digits/images_/2/6.png  \n",
            " extracting: Dataset/CS114/Digits/images_/2/7.png  \n",
            " extracting: Dataset/CS114/Digits/images_/2/8.png  \n",
            " extracting: Dataset/CS114/Digits/images_/2/9.png  \n",
            " extracting: Dataset/CS114/Digits/images_/2/10.png  \n",
            "   creating: Dataset/CS114/Digits/images_/1/\n",
            " extracting: Dataset/CS114/Digits/images_/1/1.png  \n",
            " extracting: Dataset/CS114/Digits/images_/1/2.png  \n",
            " extracting: Dataset/CS114/Digits/images_/1/3.png  \n",
            " extracting: Dataset/CS114/Digits/images_/1/4.png  \n",
            " extracting: Dataset/CS114/Digits/images_/1/5.png  \n",
            " extracting: Dataset/CS114/Digits/images_/1/6.png  \n",
            " extracting: Dataset/CS114/Digits/images_/1/7.png  \n",
            " extracting: Dataset/CS114/Digits/images_/1/8.png  \n",
            " extracting: Dataset/CS114/Digits/images_/1/9.png  \n",
            " extracting: Dataset/CS114/Digits/images_/1/10.png  \n",
            "   creating: Dataset/CS114/Digits/images_/8/\n",
            " extracting: Dataset/CS114/Digits/images_/8/1.png  \n",
            " extracting: Dataset/CS114/Digits/images_/8/2.png  \n",
            " extracting: Dataset/CS114/Digits/images_/8/3.png  \n"
          ]
        }
      ]
    },
    {
      "cell_type": "markdown",
      "metadata": {
        "id": "AJTMwXptDbXS"
      },
      "source": [
        "\n",
        "# Recognizing hand-written digits\n",
        "\n",
        "This example shows how scikit-learn can be used to recognize images of\n",
        "hand-written digits, from 0-9.\n"
      ]
    },
    {
      "cell_type": "code",
      "execution_count": null,
      "metadata": {
        "id": "KCT4YVfjDbXV"
      },
      "outputs": [],
      "source": [
        "# Author: Gael Varoquaux <gael dot varoquaux at normalesup dot org>\n",
        "# License: BSD 3 clause\n",
        "\n",
        "# Standard scientific Python imports\n",
        "import matplotlib.pyplot as plt\n",
        "\n",
        "# Import datasets, classifiers and performance metrics\n",
        "from sklearn import datasets, svm, metrics\n",
        "from sklearn.model_selection import train_test_split\n",
        "\n",
        "#Preprocess self-images\n",
        "import os\n",
        "import numpy as np\n",
        "from sklearn.preprocessing import MinMaxScaler\n",
        "from PIL import Image"
      ]
    },
    {
      "cell_type": "markdown",
      "source": [
        "# Pre-processing the image"
      ],
      "metadata": {
        "id": "KmUu8sVlD2oP"
      }
    },
    {
      "cell_type": "code",
      "source": [
        "path = '/content/drive/MyDrive/Dataset/CS114/Digits/images'\n",
        "def cropImage (image, threshold):\n",
        "    top, bot, left, right = image.height, 0, image.width, 0 \n",
        "    #print (image.shape)\n",
        "    image_array = np.asarray(image)\n",
        "    image_array = abs(255 - image_array)\n",
        "    \n",
        "    for k in range(image.height):\n",
        "        for l in range(image.width): \n",
        "            if image_array[k][l] < threshold:\n",
        "                image_array[k][l] = 0\n",
        "            else:\n",
        "                #print (\"abc\", top, bot, left, right)  \n",
        "                if top > k:\n",
        "                    top = k\n",
        "                if bot < k:\n",
        "                    bot = k\n",
        "                if left > l:\n",
        "                    left = l\n",
        "                if right < l:\n",
        "                    right = l\n",
        "    \n",
        "    width = abs(left - right)\n",
        "    height = abs(bot - top)\n",
        "    pad = abs(height - width)\n",
        "    \n",
        "    if (width < height):\n",
        "        pad = abs(height - width)\n",
        "        left = max(left - pad//2, 0)\n",
        "\n",
        "        width = abs(left - right)\n",
        "        pad = abs(height - width)\n",
        "        right = min(right + pad, image.width)\n",
        "    \n",
        "    if (height < width):\n",
        "        pad = abs(height - width)\n",
        "        top = max(top - pad//2, 0)\n",
        "\n",
        "        height = abs(top - bot)\n",
        "        pad = abs(height - width)\n",
        "        bot = min(bot + pad, image.height)\n",
        "\n",
        "    image = image.crop((left, top, right, bot))\n",
        "    return image"
      ],
      "metadata": {
        "id": "PM-EndVDGvc-"
      },
      "execution_count": null,
      "outputs": []
    },
    {
      "cell_type": "markdown",
      "metadata": {
        "id": "g2WhEiQqDbXV"
      },
      "source": [
        "## Digits dataset\n",
        "\n",
        "The digits dataset consists of 8x8\n",
        "pixel images of digits. The ``images`` attribute of the dataset stores\n",
        "8x8 arrays of grayscale values for each image. We will use these arrays to\n",
        "visualize the first 4 images. The ``target`` attribute of the dataset stores\n",
        "the digit each image represents and this is included in the title of the 4\n",
        "plots below.\n",
        "\n",
        "Note: if we were working from image files (e.g., 'png' files), we would load\n",
        "them using :func:`matplotlib.pyplot.imread`.\n",
        "\n"
      ]
    },
    {
      "cell_type": "code",
      "execution_count": null,
      "metadata": {
        "colab": {
          "base_uri": "https://localhost:8080/",
          "height": 227
        },
        "id": "XJQZa0FXDbXW",
        "outputId": "9935f583-f59e-4aa4-ccf7-02c5f77161c4"
      },
      "outputs": [
        {
          "output_type": "display_data",
          "data": {
            "text/plain": [
              "<Figure size 1000x300 with 4 Axes>"
            ],
            "image/png": "[encoded data removed]"
          },
          "metadata": {}
        }
      ],
      "source": [
        "digits = datasets.load_digits()\n",
        "\n",
        "_, axes = plt.subplots(nrows=1, ncols=4, figsize=(10, 3))\n",
        "for ax, image, label in zip(axes, digits.images, digits.target):\n",
        "    ax.set_axis_off()\n",
        "    ax.imshow(image, cmap=plt.cm.gray_r, interpolation=\"nearest\")\n",
        "    ax.set_title(\"Training: %i\" % label)"
      ]
    },
    {
      "cell_type": "markdown",
      "metadata": {
        "id": "jjnTpXSeDbXX"
      },
      "source": [
        "## Classification\n",
        "\n",
        "To apply a classifier on this data, we need to flatten the images, turning\n",
        "each 2-D array of grayscale values from shape ``(8, 8)`` into shape\n",
        "``(64,)``. Subsequently, the entire dataset will be of shape\n",
        "``(n_samples, n_features)``, where ``n_samples`` is the number of images and\n",
        "``n_features`` is the total number of pixels in each image.\n",
        "\n",
        "We can then split the data into train and test subsets and fit a support\n",
        "vector classifier on the train samples. The fitted classifier can\n",
        "subsequently be used to predict the value of the digit for the samples\n",
        "in the test subset.\n",
        "\n"
      ]
    },
    {
      "cell_type": "code",
      "execution_count": null,
      "metadata": {
        "id": "sBfMp4jrDbXX"
      },
      "outputs": [],
      "source": [
        "# flatten the images\n",
        "n_samples = len(digits.images)\n",
        "data = digits.images.reshape((n_samples, -1))\n",
        "\n",
        "# Create a classifier: a support vector classifier\n",
        "clf = svm.SVC(gamma=0.001)\n",
        "\n",
        "# Split data into 50% train and 50% test subsets\n",
        "X_train, _, y_train, _ = train_test_split(\n",
        "    data, digits.target, test_size=0.5, shuffle=False\n",
        ")\n",
        "\n",
        "# Learn the digits on the train subset\n",
        "clf.fit(X_train, y_train)\n",
        "\n",
        "# Predict the value of the digit on the test subset\n",
        "images = []\n",
        "X_test = []\n",
        "y_test = []\n",
        "predictions = []\n",
        "for i in range(0,10):\n",
        "    for j in range(0, 4):\n",
        "        try:\n",
        "            #voting = [0] * 10\n",
        "            img_path = f\"{path}/\"+str(i)+\"/\"+str(j)+'.png'\n",
        "            original_image = Image.open(img_path).convert(\"L\")\n",
        "            \n",
        "            for threshold in range(0,255):\n",
        "                matched = False\n",
        "                im = cropImage(original_image, threshold)\n",
        "                \n",
        "                im = im.resize((8,8))\n",
        "                image_array = np.asarray(im)\n",
        "                image_array = abs(255 - image_array)\n",
        "                \n",
        "                for k in range(len(image_array)):\n",
        "                    for l in range(len(image_array)):\n",
        "                        if image_array[k][l] < threshold:\n",
        "                            image_array[k][l] = 0\n",
        "\n",
        "                image_array = image_array//14\n",
        "                image_array = image_array.reshape((1,-1))\n",
        "                \n",
        "                predicted = clf.predict(image_array)\n",
        "                #voting[list(predicted)[0]] += 1\n",
        "                if predicted == i:\n",
        "                    matched = True\n",
        "                    break\n",
        "            X_test.append(image_array)\n",
        "            y_test.append(i)\n",
        "            predictions.append(list(predicted)[0])\n",
        "            # predictions.append(voting.index(max(voting)))\n",
        "            images.append(original_image)\n",
        "              \n",
        "        except:\n",
        "          pass"
      ]
    },
    {
      "cell_type": "markdown",
      "metadata": {
        "id": "E5TuJ8YxDbXY"
      },
      "source": [
        "Below we visualize the first 4 test samples and show their predicted\n",
        "digit value in the title.\n",
        "\n"
      ]
    },
    {
      "cell_type": "code",
      "execution_count": null,
      "metadata": {
        "colab": {
          "base_uri": "https://localhost:8080/",
          "height": 227
        },
        "id": "EhCj3Jw4DbXY",
        "outputId": "f8a1f15f-31cb-4a4c-e620-db8507ed1ff1"
      },
      "outputs": [
        {
          "output_type": "display_data",
          "data": {
            "text/plain": [
              "<Figure size 1000x300 with 4 Axes>"
            ],
            "image/png": "[encoded data removed]"
          },
          "metadata": {}
        }
      ],
      "source": [
        "_, axes = plt.subplots(nrows=1, ncols=4, figsize=(10, 3))\n",
        "for ax, image, prediction, ground_truth in zip(axes, X_test, predictions, y_test):\n",
        "    ax.set_axis_off()\n",
        "    image = image.reshape(8, 8)\n",
        "    ax.imshow(image, cmap=plt.cm.gray_r,)\n",
        "    ax.set_title(f\"Prediction: {prediction}\")\n",
        "    "
      ]
    },
    {
      "cell_type": "markdown",
      "metadata": {
        "id": "RCc8amJjDbXZ"
      },
      "source": [
        ":func:`~sklearn.metrics.classification_report` builds a text report showing\n",
        "the main classification metrics.\n",
        "\n"
      ]
    },
    {
      "cell_type": "code",
      "execution_count": null,
      "metadata": {
        "colab": {
          "base_uri": "https://localhost:8080/"
        },
        "id": "-txQjm3fDbXZ",
        "outputId": "e51f9499-a9a9-4458-f7a6-946bf684117b"
      },
      "outputs": [
        {
          "output_type": "stream",
          "name": "stdout",
          "text": [
            "Classification report for classifier SVC(gamma=0.001):\n",
            "              precision    recall  f1-score   support\n",
            "\n",
            "           0       1.00      1.00      1.00         4\n",
            "           1       0.57      1.00      0.73         4\n",
            "           2       1.00      1.00      1.00         4\n",
            "           3       1.00      1.00      1.00         4\n",
            "           4       1.00      0.50      0.67         4\n",
            "           5       1.00      1.00      1.00         4\n",
            "           6       1.00      0.75      0.86         4\n",
            "           7       1.00      1.00      1.00         4\n",
            "           8       1.00      1.00      1.00         4\n",
            "           9       1.00      1.00      1.00         4\n",
            "\n",
            "    accuracy                           0.93        40\n",
            "   macro avg       0.96      0.93      0.93        40\n",
            "weighted avg       0.96      0.93      0.93        40\n",
            "\n",
            "\n"
          ]
        }
      ],
      "source": [
        "print(\n",
        "    f\"Classification report for classifier {clf}:\\n\"\n",
        "    f\"{metrics.classification_report(y_test, predictions)}\\n\"\n",
        ")"
      ]
    },
    {
      "cell_type": "markdown",
      "metadata": {
        "id": "Pjbg5QGGDbXZ"
      },
      "source": [
        "We can also plot a `confusion matrix <confusion_matrix>` of the\n",
        "true digit values and the predicted digit values.\n",
        "\n"
      ]
    },
    {
      "cell_type": "code",
      "execution_count": null,
      "metadata": {
        "colab": {
          "base_uri": "https://localhost:8080/",
          "height": 688
        },
        "id": "W8Z9JdPtDbXZ",
        "outputId": "2cdfda1a-d7cc-471d-8418-cc03963faf42"
      },
      "outputs": [
        {
          "output_type": "stream",
          "name": "stdout",
          "text": [
            "Confusion matrix:\n",
            "[[4 0 0 0 0 0 0 0 0 0]\n",
            " [0 4 0 0 0 0 0 0 0 0]\n",
            " [0 0 4 0 0 0 0 0 0 0]\n",
            " [0 0 0 4 0 0 0 0 0 0]\n",
            " [0 2 0 0 2 0 0 0 0 0]\n",
            " [0 0 0 0 0 4 0 0 0 0]\n",
            " [0 1 0 0 0 0 3 0 0 0]\n",
            " [0 0 0 0 0 0 0 4 0 0]\n",
            " [0 0 0 0 0 0 0 0 4 0]\n",
            " [0 0 0 0 0 0 0 0 0 4]]\n"
          ]
        },
        {
          "output_type": "display_data",
          "data": {
            "text/plain": [
              "<Figure size 640x480 with 2 Axes>"
            ],
            "image/png": "[encoded data removed]"
          },
          "metadata": {}
        }
      ],
      "source": [
        "disp = metrics.ConfusionMatrixDisplay.from_predictions(y_test, predictions)\n",
        "disp.figure_.suptitle(\"Confusion Matrix\")\n",
        "print(f\"Confusion matrix:\\n{disp.confusion_matrix}\")\n",
        "\n",
        "plt.show()"
      ]
    },
    {
      "cell_type": "markdown",
      "metadata": {
        "id": "333Rukh_DbXZ"
      },
      "source": [
        "If the results from evaluating a classifier are stored in the form of a\n",
        "`confusion matrix <confusion_matrix>` and not in terms of `y_true` and\n",
        "`y_pred`, one can still build a :func:`~sklearn.metrics.classification_report`\n",
        "as follows:\n",
        "\n"
      ]
    },
    {
      "cell_type": "code",
      "execution_count": null,
      "metadata": {
        "colab": {
          "base_uri": "https://localhost:8080/"
        },
        "id": "KH_UbWQtDbXa",
        "outputId": "9f243f9d-95f3-4129-bc0a-607bbafe72b4"
      },
      "outputs": [
        {
          "output_type": "stream",
          "name": "stdout",
          "text": [
            "Classification report rebuilt from confusion matrix:\n",
            "              precision    recall  f1-score   support\n",
            "\n",
            "           0       1.00      1.00      1.00         4\n",
            "           1       0.57      1.00      0.73         4\n",
            "           2       1.00      1.00      1.00         4\n",
            "           3       1.00      1.00      1.00         4\n",
            "           4       1.00      0.50      0.67         4\n",
            "           5       1.00      1.00      1.00         4\n",
            "           6       1.00      0.75      0.86         4\n",
            "           7       1.00      1.00      1.00         4\n",
            "           8       1.00      1.00      1.00         4\n",
            "           9       1.00      1.00      1.00         4\n",
            "\n",
            "    accuracy                           0.93        40\n",
            "   macro avg       0.96      0.93      0.93        40\n",
            "weighted avg       0.96      0.93      0.93        40\n",
            "\n",
            "\n"
          ]
        }
      ],
      "source": [
        "# The ground truth and predicted lists\n",
        "y_true = []\n",
        "y_pred = []\n",
        "cm = disp.confusion_matrix\n",
        "\n",
        "# For each cell in the confusion matrix, add the corresponding ground truths\n",
        "# and predictions to the lists\n",
        "for gt in range(len(cm)):\n",
        "    for pred in range(len(cm)):\n",
        "        y_true += [gt] * cm[gt][pred]\n",
        "        y_pred += [pred] * cm[gt][pred]\n",
        "\n",
        "print(\n",
        "    \"Classification report rebuilt from confusion matrix:\\n\"\n",
        "    f\"{metrics.classification_report(y_true, y_pred)}\\n\"\n",
        ")"
      ]
    },
    {
      "cell_type": "code",
      "source": [
        "!gdown https://drive.google.com/drive/folders/1Eqtp400xAGqoh0mHFmNlx__to3C_JtK"
      ],
      "metadata": {
        "colab": {
          "base_uri": "https://localhost:8080/"
        },
        "id": "tKpxW3Juxgd6",
        "outputId": "e7957876-dc1d-4d95-aec2-838883fa80be"
      },
      "execution_count": null,
      "outputs": [
        {
          "output_type": "stream",
          "name": "stdout",
          "text": [
            "/usr/local/lib/python3.10/dist-packages/gdown/parse_url.py:35: UserWarning: You specified a Google Drive link that is not the correct link to download a file. You might want to try `--fuzzy` option or the following url: https://drive.google.com/uc?id=None\n",
            "  warnings.warn(\n",
            "Downloading...\n",
            "From: https://drive.google.com/drive/folders/1Eqtp400xAGqoh0mHFmNlx__to3C_JtK\n",
            "To: /content/1Eqtp400xAGqoh0mHFmNlx__to3C_JtK\n",
            "\r0.00B [00:00, ?B/s]\r1.64kB [00:00, 2.85MB/s]\n"
          ]
        }
      ]
    },
    {
      "cell_type": "code",
      "source": [],
      "metadata": {
        "id": "kpxn__WSy466"
      },
      "execution_count": null,
      "outputs": []
    }
  ],
  "metadata": {
    "kernelspec": {
      "display_name": "tf-gpu",
      "language": "python",
      "name": "tf-gpu"
    },
    "language_info": {
      "codemirror_mode": {
        "name": "ipython",
        "version": 3
      },
      "file_extension": ".py",
      "mimetype": "text/x-python",
      "name": "python",
      "nbconvert_exporter": "python",
      "pygments_lexer": "ipython3",
      "version": "3.9.15"
    },
    "colab": {
      "provenance": []
    }
  },
  "nbformat": 4,
  "nbformat_minor": 0
}